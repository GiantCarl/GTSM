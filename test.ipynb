{
 "cells": [
  {
   "cell_type": "code",
   "execution_count": 1,
   "metadata": {},
   "outputs": [],
   "source": [
    "import matplotlib.pyplot as plt\n",
    "import numpy as np\n",
    "from mpl_toolkits.mplot3d import Axes3D\n",
    "import torch\n"
   ]
  },
  {
   "cell_type": "code",
   "execution_count": 6,
   "metadata": {},
   "outputs": [
    {
     "name": "stdout",
     "output_type": "stream",
     "text": [
      "tensor_uniform: tensor([-2.0682, -1.0551,  1.0040, -0.2351,  0.7647, -0.9234,  1.3131, -0.5069,\n",
      "        -0.3904, -0.0063])\n"
     ]
    }
   ],
   "source": [
    "tensor_uniform = torch.randn(10)\n",
    "print(\"tensor_uniform:\", tensor_uniform)"
   ]
  },
  {
   "cell_type": "code",
   "execution_count": 7,
   "metadata": {},
   "outputs": [
    {
     "name": "stdout",
     "output_type": "stream",
     "text": [
      "symlog_tensor: tensor([-1.1211, -0.7203,  0.6952, -0.2112,  0.5680, -0.6541,  0.8386, -0.4100,\n",
      "        -0.3296, -0.0063])\n"
     ]
    }
   ],
   "source": [
    "symlog_tensor = torch.sign(tensor_uniform) * torch.log(abs(tensor_uniform) + 1)\n",
    "print(\"symlog_tensor:\", symlog_tensor)"
   ]
  },
  {
   "cell_type": "code",
   "execution_count": 8,
   "metadata": {},
   "outputs": [
    {
     "name": "stdout",
     "output_type": "stream",
     "text": [
      "symexp_tensor: tensor([-2.0682, -1.0551,  1.0040, -0.2351,  0.7647, -0.9234,  1.3131, -0.5069,\n",
      "        -0.3904, -0.0063])\n"
     ]
    }
   ],
   "source": [
    "symexp_tensor = torch.sign(symlog_tensor) *(torch.exp(abs(symlog_tensor))-1)\n",
    "print(\"symexp_tensor:\", symexp_tensor)"
   ]
  },
  {
   "cell_type": "code",
   "execution_count": 9,
   "metadata": {},
   "outputs": [
    {
     "name": "stdout",
     "output_type": "stream",
     "text": [
      "diff: tensor([ 0.0000e+00,  0.0000e+00,  1.1921e-07, -1.4901e-08, -5.9605e-08,\n",
      "         0.0000e+00,  1.1921e-07,  0.0000e+00,  0.0000e+00, -1.2573e-08])\n"
     ]
    }
   ],
   "source": [
    "\n",
    "diff = tensor_uniform - symexp_tensor\n",
    "print(\"diff:\",diff)"
   ]
  }
 ],
 "metadata": {
  "kernelspec": {
   "display_name": "pytorch",
   "language": "python",
   "name": "python3"
  },
  "language_info": {
   "codemirror_mode": {
    "name": "ipython",
    "version": 3
   },
   "file_extension": ".py",
   "mimetype": "text/x-python",
   "name": "python",
   "nbconvert_exporter": "python",
   "pygments_lexer": "ipython3",
   "version": "3.9.19"
  }
 },
 "nbformat": 4,
 "nbformat_minor": 2
}
